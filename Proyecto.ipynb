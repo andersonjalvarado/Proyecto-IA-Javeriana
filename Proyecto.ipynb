{
 "cells": [
  {
   "cell_type": "code",
   "execution_count": null,
   "metadata": {},
   "outputs": [],
   "source": [
    "import pandas as pd\n",
    "from sklearn.tree import DecisionTreeRegressor\n",
    "from sklearn.cluster import DBSCAN\n",
    "\n",
    "# Cargar datos de precios del café y climáticos\n",
    "cafe_precios = pd.read_csv('cafe_precios.csv')\n",
    "datos_climaticos = pd.read_csv('datos_climaticos.csv')\n",
    "\n",
    "# Combinar datos de precios y climáticos\n",
    "datos = pd.merge(cafe_precios, datos_climaticos, on=['region', 'fecha'])\n",
    "\n",
    "# Seleccionar características relevantes\n",
    "caracteristicas = ['temperatura', 'precipitacion', 'humedad']\n",
    "X = datos[caracteristicas]\n",
    "y = datos['precio_cafe']\n",
    "\n",
    "# Entrenar un árbol de decisión\n",
    "arbol = DecisionTreeRegressor()\n",
    "arbol.fit(X, y)\n",
    "\n",
    "# Usar DBSCAN para encontrar épocas de clima extremo\n",
    "dbscan = DBSCAN(eps=0.5, min_samples=5)\n",
    "clusters = dbscan.fit_predict(X)\n",
    "datos['cluster'] = clusters\n",
    "\n",
    "# Analizar los precios del café en épocas de clima extremo\n",
    "epocas_extremas = datos[datos['cluster'] == -1]\n",
    "promedio_normal = datos[datos['cluster'] != -1]['precio_cafe'].mean()\n",
    "promedio_extremo = epocas_extremas['precio_cafe'].mean()\n",
    "\n",
    "print(f'Promedio de precios en épocas normales: {promedio_normal}')\n",
    "print(f'Promedio de precios en épocas de clima extremo: {promedio_extremo}')"
   ]
  }
 ],
 "metadata": {
  "language_info": {
   "name": "python"
  }
 },
 "nbformat": 4,
 "nbformat_minor": 2
}
